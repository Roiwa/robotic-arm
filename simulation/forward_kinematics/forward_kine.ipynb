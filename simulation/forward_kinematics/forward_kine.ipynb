{
 "cells": [
  {
   "cell_type": "code",
   "execution_count": null,
   "metadata": {},
   "outputs": [],
   "source": []
  },
  {
   "cell_type": "code",
   "execution_count": 293,
   "metadata": {},
   "outputs": [],
   "source": [
    "import numpy as np\n",
    "import math\n",
    "import matplotlib.pyplot as plt\n"
   ]
  },
  {
   "cell_type": "code",
   "execution_count": 294,
   "metadata": {},
   "outputs": [],
   "source": [
    "# Reference link 0\n",
    "L0 = 0\n",
    "\n",
    "# Link 1\n",
    "L1 = 1\n",
    "angle = math.radians(45)"
   ]
  },
  {
   "cell_type": "code",
   "execution_count": 295,
   "metadata": {},
   "outputs": [
    {
     "data": {
      "text/plain": [
       "array([[ 0.70710678, -0.70710678,  0.        ],\n",
       "       [ 0.70710678,  0.70710678,  0.        ],\n",
       "       [ 0.        ,  0.        ,  1.        ]])"
      ]
     },
     "execution_count": 295,
     "metadata": {},
     "output_type": "execute_result"
    }
   ],
   "source": [
    "# Rotation Matrix\n",
    "RM = matriz = np.array([\n",
    "    [np.cos(angle), -np.sin(angle),   0],\n",
    "    [np.sin(angle), np.cos(angle),   0],\n",
    "    [0            ,  0            ,   1]\n",
    "])\n",
    "\n",
    "RM"
   ]
  },
  {
   "cell_type": "code",
   "execution_count": 296,
   "metadata": {},
   "outputs": [
    {
     "data": {
      "text/plain": [
       "array([[1, 0, 0],\n",
       "       [0, 1, 0],\n",
       "       [0, 0, 1]])"
      ]
     },
     "execution_count": 296,
     "metadata": {},
     "output_type": "execute_result"
    }
   ],
   "source": [
    "# Reference transform\n",
    "RefTransform = np.array([\n",
    "    [1, 0, L0],\n",
    "    [0, 1, 0],\n",
    "    [0, 0, 1]\n",
    "])\n",
    "\n",
    "RefTransform"
   ]
  },
  {
   "cell_type": "code",
   "execution_count": 297,
   "metadata": {},
   "outputs": [
    {
     "data": {
      "text/plain": [
       "array([[1],\n",
       "       [0],\n",
       "       [1]])"
      ]
     },
     "execution_count": 297,
     "metadata": {},
     "output_type": "execute_result"
    }
   ],
   "source": [
    "# link1 coordinate\n",
    "x1 = matriz = np.array([\n",
    "    [L1],\n",
    "    [0],\n",
    "    [1]\n",
    "])\n",
    "x1"
   ]
  },
  {
   "cell_type": "code",
   "execution_count": 298,
   "metadata": {},
   "outputs": [
    {
     "data": {
      "text/plain": [
       "array([[ 0.70710678, -0.70710678,  0.        ],\n",
       "       [ 0.70710678,  0.70710678,  0.        ],\n",
       "       [ 0.        ,  0.        ,  1.        ]])"
      ]
     },
     "execution_count": 298,
     "metadata": {},
     "output_type": "execute_result"
    }
   ],
   "source": [
    "# link1 transform\n",
    "T1 = np.dot(RefTransform,RM)\n",
    "T1"
   ]
  },
  {
   "cell_type": "code",
   "execution_count": 299,
   "metadata": {},
   "outputs": [
    {
     "data": {
      "text/plain": [
       "array([[0.70710678],\n",
       "       [0.70710678],\n",
       "       [1.        ]])"
      ]
     },
     "execution_count": 299,
     "metadata": {},
     "output_type": "execute_result"
    }
   ],
   "source": [
    "x_world = np.dot(T1,x1)\n",
    "x_world"
   ]
  },
  {
   "cell_type": "code",
   "execution_count": 300,
   "metadata": {},
   "outputs": [
    {
     "data": {
      "image/png": "[encoded data removed]",
      "text/plain": [
       "<Figure size 640x480 with 1 Axes>"
      ]
     },
     "metadata": {},
     "output_type": "display_data"
    }
   ],
   "source": [
    "def printPoint(x,y):\n",
    "   \n",
    "\n",
    "    # -----------------------------\n",
    "    # Create the figure\n",
    "    # -----------------------------\n",
    "    fig, ax = plt.subplots()\n",
    "    ax.set_aspect('equal')\n",
    "    ax.set_xlim(-5, 5)\n",
    "    ax.set_ylim(-5, 5)\n",
    "    ax.grid(True, linestyle='--', alpha=0.5)\n",
    "\n",
    "    # -----------------------------\n",
    "    # Paint vector and point\n",
    "    # -----------------------------\n",
    "    # Vector from (0,0) to (x,y)\n",
    "    ax.arrow(0, 0, x, y, head_width=0.2, head_length=0.3, fc='r', ec='r', length_includes_head=True)\n",
    "\n",
    "    # Paint the point\n",
    "    ax.plot(x, y, 'bo', label=f'P({x:.2f}, {y:.2f})')\n",
    "\n",
    "    # -----------------------------\n",
    "    # Add labels and axis\n",
    "    # -----------------------------\n",
    "    ax.axhline(0, color='black', lw=1)\n",
    "    ax.axvline(0, color='black', lw=1)\n",
    "    ax.legend()\n",
    "    ax.set_title('Vector from origin to point')\n",
    "\n",
    "    plt.show()\n",
    "\n",
    "# -----------------------------\n",
    "# Point Coordinates\n",
    "# -----------------------------\n",
    "printPoint(x_world[0,0], x_world[1,0])"
   ]
  },
  {
   "cell_type": "markdown",
   "metadata": {},
   "source": [
    "# Define a Link class"
   ]
  },
  {
   "cell_type": "code",
   "execution_count": 301,
   "metadata": {},
   "outputs": [],
   "source": [
    "class Link:\n",
    "    def __init__(self, length, theta_deg, parent=None):\n",
    "        \"\"\"\n",
    "        Constructor:\n",
    "        - theta_deg: angle in degrees (relative to x axis or to parent link)\n",
    "        - length   : link length\n",
    "        - parent   : other link object (optional)\n",
    "        \"\"\"\n",
    "        self.theta = math.radians(theta_deg)\n",
    "        self.length = float(length)\n",
    "        self.parent = parent\n",
    "        \n",
    "        # The link is defined by its its reference transform (related to its parent), \n",
    "        # its rotation matrix, and its coordinates\n",
    "        \n",
    "        \n",
    "        if parent is None: # This link has no parent → its base is at the origin\n",
    "            \n",
    "            # Reference transform\n",
    "            self.refTransform = np.array([\n",
    "                [1, 0, 0],\n",
    "                [0, 1, 0],\n",
    "                [0, 0, 1]\n",
    "            ])\n",
    "            self.x0, self.y0 = 0.0, 0.0\n",
    "            self.theta_base = 0\n",
    "        else:\n",
    "            # its base is in the end point of its parent link\n",
    "            # Reference transform\n",
    "            self.refTransform = np.array([\n",
    "                [1,         0, self.parent.length],\n",
    "                [0,         1,                  0],\n",
    "                [0,         0,                  1]\n",
    "            ])\n",
    "            \n",
    "        # Rotation Matrix\n",
    "        self.rotationMatrix = matriz = np.array([\n",
    "            [np.cos(self.theta), -np.sin(self.theta),   0],\n",
    "            [np.sin(self.theta),  np.cos(self.theta),   0],\n",
    "            [0                 ,                   0,   1]\n",
    "        ])\n",
    "        \n",
    "        # link coordinate about x axis\n",
    "        self.coordinates = matriz = np.array([\n",
    "            [self.length],\n",
    "            [0],\n",
    "            [1]\n",
    "        ])\n",
    "        \n",
    "    def calculateLinkTransform(self):\n",
    "        \n",
    "        if self.parent is None:\n",
    "            return np.dot(self.refTransform,self.rotationMatrix)\n",
    "        else:\n",
    "            return np.dot(self.parent.calculateLinkTransform(),np.dot(self.refTransform,self.rotationMatrix))\n",
    "        \n",
    "    \n",
    "    def calculateWorldCoordinates(self):\n",
    "            return np.dot(self.calculateLinkTransform(),self.coordinates)"
   ]
  },
  {
   "cell_type": "code",
   "execution_count": 302,
   "metadata": {},
   "outputs": [],
   "source": [
    "# ==============================================================\n",
    "# Create a link using the class\n",
    "# ==============================================================\n",
    "link1 = Link(2/math.sqrt(2), 45)                      "
   ]
  },
  {
   "cell_type": "code",
   "execution_count": 303,
   "metadata": {},
   "outputs": [
    {
     "name": "stdout",
     "output_type": "stream",
     "text": [
      "Reference transform: \n",
      "[[1 0 0]\n",
      " [0 1 0]\n",
      " [0 0 1]]\n",
      "Rotation matrix: \n",
      "[[ 0.70710678 -0.70710678  0.        ]\n",
      " [ 0.70710678  0.70710678  0.        ]\n",
      " [ 0.          0.          1.        ]]\n",
      "Link transform: \n",
      "[[ 0.70710678 -0.70710678  0.        ]\n",
      " [ 0.70710678  0.70710678  0.        ]\n",
      " [ 0.          0.          1.        ]]\n",
      "World coordinates: \n",
      "[[1.]\n",
      " [1.]\n",
      " [1.]]\n"
     ]
    }
   ],
   "source": [
    "print(f'Reference transform: \\n{link1.refTransform}')\n",
    "print(f'Rotation matrix: \\n{link1.rotationMatrix}')\n",
    "print(f'Link transform: \\n{link1.calculateLinkTransform()}')\n",
    "print(f'World coordinates: \\n{link1.calculateWorldCoordinates()}')\n"
   ]
  },
  {
   "cell_type": "code",
   "execution_count": 304,
   "metadata": {},
   "outputs": [
    {
     "data": {
      "image/png": "[encoded data removed]",
      "text/plain": [
       "<Figure size 640x480 with 1 Axes>"
      ]
     },
     "metadata": {},
     "output_type": "display_data"
    }
   ],
   "source": [
    "coordinates = link1.calculateWorldCoordinates()\n",
    "printPoint(coordinates[0,0],coordinates[1,0])"
   ]
  },
  {
   "cell_type": "code",
   "execution_count": 305,
   "metadata": {},
   "outputs": [],
   "source": [
    "# ==============================================================\n",
    "# Create a set of links using the parent link\n",
    "# ==============================================================\n",
    "link1 = Link(3, 0)              # first link\n",
    "link2 = Link(3, 45, link1)      # second link\n",
    "link3 = Link(3, 45, link2)      # third link\n",
    "\n",
    "links = [link1, link2, link3]"
   ]
  },
  {
   "cell_type": "code",
   "execution_count": 306,
   "metadata": {},
   "outputs": [
    {
     "name": "stdout",
     "output_type": "stream",
     "text": [
      "Reference transform: \n",
      "[[1. 0. 3.]\n",
      " [0. 1. 0.]\n",
      " [0. 0. 1.]]\n",
      "Rotation matrix: \n",
      "[[ 0.70710678 -0.70710678  0.        ]\n",
      " [ 0.70710678  0.70710678  0.        ]\n",
      " [ 0.          0.          1.        ]]\n",
      "Link transform: \n",
      "[[ 1.99673462e-16 -1.00000000e+00  5.12132034e+00]\n",
      " [ 1.00000000e+00  1.79380389e-16  2.12132034e+00]\n",
      " [ 0.00000000e+00  0.00000000e+00  1.00000000e+00]]\n",
      "World coordinates: \n",
      "[[5.12132034]\n",
      " [5.12132034]\n",
      " [1.        ]]\n"
     ]
    }
   ],
   "source": [
    "print(f'Reference transform: \\n{links[2].refTransform}')\n",
    "print(f'Rotation matrix: \\n{links[2].rotationMatrix}')\n",
    "print(f'Link transform: \\n{links[2].calculateLinkTransform()}')\n",
    "print(f'World coordinates: \\n{links[2].calculateWorldCoordinates()}')\n"
   ]
  },
  {
   "cell_type": "code",
   "execution_count": 307,
   "metadata": {},
   "outputs": [
    {
     "name": "stdout",
     "output_type": "stream",
     "text": [
      "reference transform: \n",
      "[[1 0 0]\n",
      " [0 1 0]\n",
      " [0 0 1]]\n",
      "Rotation matrix: \n",
      "[[ 1. -0.  0.]\n",
      " [ 0.  1.  0.]\n",
      " [ 0.  0.  1.]]\n",
      "World coordinates: \n",
      "[[3.]\n",
      " [0.]\n",
      " [1.]]\n"
     ]
    }
   ],
   "source": [
    "print(f'reference transform: \\n{links[0].refTransform}')\n",
    "print(f'Rotation matrix: \\n{links[0].rotationMatrix}')\n",
    "print(f'World coordinates: \\n{links[0].calculateWorldCoordinates()}')\n"
   ]
  },
  {
   "cell_type": "code",
   "execution_count": 308,
   "metadata": {},
   "outputs": [
    {
     "name": "stdout",
     "output_type": "stream",
     "text": [
      "reference transform: \n",
      "[[1. 0. 3.]\n",
      " [0. 1. 0.]\n",
      " [0. 0. 1.]]\n",
      "Rotation matrix: \n",
      "[[ 0.70710678 -0.70710678  0.        ]\n",
      " [ 0.70710678  0.70710678  0.        ]\n",
      " [ 0.          0.          1.        ]]\n",
      "World coordinates: \n",
      "[[5.12132034]\n",
      " [2.12132034]\n",
      " [1.        ]]\n"
     ]
    }
   ],
   "source": [
    "print(f'reference transform: \\n{links[1].refTransform}')\n",
    "print(f'Rotation matrix: \\n{links[1].rotationMatrix}')\n",
    "print(f'World coordinates: \\n{links[1].calculateWorldCoordinates()}')\n"
   ]
  },
  {
   "cell_type": "code",
   "execution_count": 309,
   "metadata": {},
   "outputs": [
    {
     "data": {
      "image/png": "[encoded data removed]",
      "text/plain": [
       "<Figure size 700x700 with 1 Axes>"
      ]
     },
     "metadata": {},
     "output_type": "display_data"
    }
   ],
   "source": [
    "fig, ax = plt.subplots(figsize=(7, 7))\n",
    "\n",
    "ax.set_aspect('equal', 'box')\n",
    "ax.grid(True, linestyle='--', alpha=0.5)\n",
    "ax.set_xlabel(\"X\")\n",
    "ax.set_ylabel(\"Y\")\n",
    "ax.set_title(\"Robotic arm\")\n",
    "\n",
    "ax.set_xlim(-1, 10)\n",
    "ax.set_ylim(-1, 10)\n",
    "\n",
    "(lineas,) = ax.plot([], [], lw=4, marker='o', color=\"#0077cc\", markersize=6)\n",
    "(end_dot,) = ax.plot([], [], 'o', color='red', markersize=8)\n",
    "\n",
    "# Calculate chained positions\n",
    "x_points = [0.0]\n",
    "y_points = [0.0]\n",
    "\n",
    "length_links = 0\n",
    "for link in links:\n",
    "    coordinates = link.calculateWorldCoordinates()\n",
    "    x_points.append(coordinates[0,0])\n",
    "    y_points.append(coordinates[1,0])\n",
    "    length_links += link.length\n",
    "    \n",
    "# print arm\n",
    "lineas.set_data(x_points, y_points)\n",
    "end_dot.set_data([x_points[-1]], [y_points[-1]])\n",
    "plt.show()\n"
   ]
  },
  {
   "cell_type": "code",
   "execution_count": null,
   "metadata": {},
   "outputs": [],
   "source": []
  }
 ],
 "metadata": {
  "kernelspec": {
   "display_name": "Python 3",
   "language": "python",
   "name": "python3"
  },
  "language_info": {
   "codemirror_mode": {
    "name": "ipython",
    "version": 3
   },
   "file_extension": ".py",
   "mimetype": "text/x-python",
   "name": "python",
   "nbconvert_exporter": "python",
   "pygments_lexer": "ipython3",
   "version": "3.12.3"
  }
 },
 "nbformat": 4,
 "nbformat_minor": 2
}
